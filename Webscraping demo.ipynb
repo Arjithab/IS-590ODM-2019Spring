{
 "cells": [
  {
   "cell_type": "markdown",
   "metadata": {},
   "source": [
    "# Webscraing and JSON APIs\n",
    "\n",
    "The tasks that this will demo:\n",
    "  \n",
    "* Downloading websites with a given URL\n",
    "* Using predictable patterns to construct URLs for downloading\n",
    "    * Single pages\n",
    "    * Page ranges (e.g. parsing through a list of search results)\n",
    "    * Feeding a series of URLs into Python to download to disk"
   ]
  },
  {
   "cell_type": "markdown",
   "metadata": {},
   "source": [
    "# This is all still just text\n",
    "\n",
    "APIs are nifty and using them is often another matter of manipulating text.\n",
    "\n",
    "Each one will work a bit differently, so you'll need to wrap your head around how that one wants you to put in text.  This is how you should be reading the documentation, but a substantial amount of experimentation will be needed.\n",
    "\n",
    "Let's play with one that:\n",
    "\n",
    "* doesn't want a log in to mess with\n",
    "* isn't super restricted\n",
    "* can handle a load of humans whacking on\n",
    "\n",
    "Once you know how to craft the queries, you can use python to make it happen.  These queries are really just URLs with other information in them.  You'll use string methods to construct those URLs and then throw them to Python for evaluation.  \n",
    "\n",
    "## before you start anything, you need to know:\n",
    "\n",
    "* are there any restrictions on how many times I can hit their servers?\n",
    "* what delay should you have between these requests\n",
    "* how should the URLs be constructed?"
   ]
  },
  {
   "cell_type": "markdown",
   "metadata": {},
   "source": [
    "## Lorem ipsum api\n",
    "\n",
    "We're going to use this one to explore the mechanism or putting in a request, receiving results, and saving the content.  Then we'll move on to...\n",
    "\n",
    "## DataCite\n",
    "\n",
    "This is a service that deals with DOIs for datasets.  I don't want to get too much into the weeds about this because it isn't important. What you need to know is that they also have an API to query and serve up metadata records about those datasets.\n",
    "\n",
    "Let's write a program that takes in a search term and gets all the data records out of it.\n",
    "\n",
    "We aren't going to be focusing too much on how they work because every API works differently.  \n",
    "\n",
    "## What's the end point?\n",
    "\n",
    "Here's how this one works:\n",
    "\n",
    "* There's a base URL that you can plunk in a query text and it'll serve up results, but the pages will be numbered.\n",
    "* It'll serve it up via json, and the metadata xml payload will be there as base64. \n",
    "* It'll also state which page we're on and how many pages there are.\n",
    "* We want to hit their servers as litle as possible, so we'll need to grab the results pages and then get the metadata out from our local copies.\n",
    "\n",
    "\n",
    "We're going to use two packages that will be new to us:\n",
    "\n",
    "1. requests to download the urls\n",
    "2. json to work with the data being served to us to get a few points of information out\n",
    "\n",
    "## Getting just one page\n",
    "\n",
    "The first step here is just to get one page into memory.  Websites are usually just text, or at least what's being served to you is text.  So we have a choice:  we can keep it in memory or we can write it out to a file.\n",
    "\n",
    "We'll start with keeping it in memory as a string.  Once we have the data as a string we can pass it into something to parse it.  For example, sometimes it'll be JSON or XML data, and while that's just a plain text file (and thus can be stored as a string), the string structure doesn't know the ins and outs of that data format.  Meaning that while we can see it, write it, and manipulate it as text, we can't query it with that data format's native methods.\n",
    "\n",
    "There are special considerations for if you need to deal with a page or API that requires a key or password, which will not be covered here.  However, you'll still have to deal with all this stuff in the process.\n",
    "\n",
    "### Getting it into memory\n",
    "\n",
    "We're going to use the requests module, which is not part of the standard library, but is one of the gold standard packages for dealing with this stuff and should come with your normal anaconda installer.\n",
    "\n",
    "There are two phases here:  \n",
    "\n",
    "1. Have requests make a connection to that website.\n",
    "2. Extract what you want out of there.\n",
    "\n",
    "There are nice ways to check the status codes and other HTTPish things, but we're going to focus on grabbing the results first.\n",
    "\n",
    "We'll use a loren ipsum API to play with first to get the hang of getting stuff back from requests, and then we'll play with DataCite.\n",
    "\n",
    "We'll want to use this URL:  https://loripsum.net/api/1/plaintext/short\n",
    "\n",
    "Broken down, this URL will be giving us 1 short paragraph formatted in plain text.  You can read about the options here:  https://loripsum.net/ They have a system where you can play with all the options and see the results.\n",
    "\n",
    "This gives plain text back.  Let's first get that to print out.\n",
    "\n",
    "#### Making the request\n",
    "\n",
    "Before you do anything you must import the requests module."
   ]
  },
  {
   "cell_type": "code",
   "execution_count": 48,
   "metadata": {
    "collapsed": true
   },
   "outputs": [],
   "source": [
    "import requests"
   ]
  },
  {
   "cell_type": "markdown",
   "metadata": {},
   "source": [
    "Now we can make out first request.  We need to provide it a URL and it will give us back a requests connection object, that we can later ask for more information."
   ]
  },
  {
   "cell_type": "code",
   "execution_count": 51,
   "metadata": {},
   "outputs": [
    {
     "name": "stdout",
     "output_type": "stream",
     "text": [
      "<Response [200]>\n"
     ]
    }
   ],
   "source": [
    "import requests\n",
    "\n",
    "url = \"https://loripsum.net/api/1/plaintext/short\"\n",
    "result = requests.get(url)\n",
    "\n",
    "print(result)"
   ]
  },
  {
   "cell_type": "markdown",
   "metadata": {},
   "source": [
    "So what we're seeing here is a sucessfull connection, but not the text.  We have to ask about that explicitly from out result object.\n",
    "\n",
    "We do this with `.text` (no parens!) this will allow us to ask for a variable value within out object (versus calling a function). Some objects just work this way, and we know how to do this by looking at the documentation or a tutorial."
   ]
  },
  {
   "cell_type": "code",
   "execution_count": 52,
   "metadata": {},
   "outputs": [
    {
     "name": "stdout",
     "output_type": "stream",
     "text": [
      "Lorem ipsum dolor sit amet, consectetur adipiscing elit. Primum in nostrane potestate est, quid meminerimus? Primum in nostrane potestate est, quid meminerimus? \n",
      "\n",
      "\n"
     ]
    }
   ],
   "source": [
    "print(result.text)"
   ]
  },
  {
   "cell_type": "markdown",
   "metadata": {},
   "source": [
    "Cool! We can play with constructing URLs in a loop here.  \n",
    "\n",
    "This tool allows you to specify some parameters in the URL, separated by `/` characters.  Options include having it be short, medium, long, verylong.  Let's loop through these options and look at what's returned.  Since we'll be making multiple calls, we also need to add a time delay."
   ]
  },
  {
   "cell_type": "code",
   "execution_count": 2,
   "metadata": {},
   "outputs": [
    {
     "name": "stdout",
     "output_type": "stream",
     "text": [
      "here's short\n",
      "Lorem ipsum dolor sit amet, consectetur adipiscing elit. Ipse Epicurus fortasse redderet, ut Sextus Peducaeus, Sex. Est, ut dicis, inquit; Duo Reges: constructio interrete. Quis istum dolorem timet? Idemne potest esse dies saepius, qui semel fuit? Indicant pueri, in quibus ut in speculis natura cernitur. \n",
      "\n",
      "\n",
      "here's medium\n",
      "Lorem ipsum dolor sit amet, consectetur adipiscing elit. Nam si +omnino nos+ neglegemus, in Aristonea vitia incidemus et peccata obliviscemurque quae virtuti ipsi principia dederimus; Non enim, si omnia non sequebatur, idcirco non erat ortus illinc. His singulis copiose responderi solet, sed quae perspicua sunt longa esse non debent. Et quod est munus, quod opus sapientiae? Nec hoc ille non vidit, sed verborum magnificentia est et gloria delectatus. Duo Reges: constructio interrete. Tum ego: Non mehercule, inquam, soleo temere contra Stoicos, non quo illis admodum assentiar, sed pudore impedior; Ecce aliud simile dissimile. \n",
      "\n",
      "\n",
      "here's long\n",
      "Lorem ipsum dolor sit amet, consectetur adipiscing elit. Quod enim testimonium maius quaerimus, quae honesta et recta sint, ipsa esse optabilia per sese, cum videamus tanta officia morientis? Et hunc idem dico, inquieta sed ad virtutes et ad vitia nihil interesse. Quid enim me prohiberet Epicureum esse, si probarem, quae ille diceret? An eum discere ea mavis, quae cum plane perdidiceriti nihil sciat? Duo Reges: constructio interrete. Deinde prima illa, quae in congressu solemus: Quid tu, inquit, huc? Quod enim testimonium maius quaerimus, quae honesta et recta sint, ipsa esse optabilia per sese, cum videamus tanta officia morientis? Et quis a Stoicis et quem ad modum diceretur, tamen ego quoque exponam, ut perspiciamus, si potuerimus, quidnam a Zenone novi sit allatum. Qui enim existimabit posse se miserum esse beatus non erit. Aut, si nihil malum, nisi quod turpe, inhonestum, indecorum, pravum, flagitiosum, foedum-ut hoc quoque pluribus nominibus insigne faciamus-, quid praeterea dices esse fugiendum? Cur id non ita fit? \n",
      "\n",
      "\n",
      "here's verylong\n",
      "Lorem ipsum dolor sit amet, consectetur adipiscing elit. Quod idem Peripatetici non tenent, quibus dicendum est, quae et honesta actio sit et sine dolore, eam magis esse expetendam, quam si esset eadem actio cum dolore. Hominum non spinas vellentium, ut Stoici, nec ossa nudantium, sed eorum, qui grandia ornate vellent, enucleate minora dicere. Eam stabilem appellas. Naturalem enim appetitionem, quam vocant o)rmh)n, itemque officium, ipsam etiam virtutem tuentem volunt esse earum rerum, quae secundum naturam sunt. Ratio ista, quam defendis, praecepta, quae didicisti, quae probas, funditus evertunt amicitiam, quamvis eam Epicurus, ut facit, in caelum efferat laudibus. Hoc autem loco tantum explicemus haec honesta, quae dico, praeterquam quod nosmet ipsos diligamus, praeterea suapte natura per se esse expetenda. Duo Reges: constructio interrete. Illa enim, quae prosunt aut quae nocent, aut bona sunt aut mala, quae sint paria necesse est. Quin etiam ipsi voluptarii deverticula quaerunt et virtutes habent in ore totos dies voluptatemque primo dumtaxat expeti dicunt, deinde consuetudine quasi alteram quandam naturam effici, qua inpulsi multa faciant nullam quaerentes voluptatem. Atque his tribus generibus honestorum notatis quartum sequitur et in eadem pulchritudine et aptum ex illis tribus, in quo inest ordo et moderatio. Ergo nata est sententia veterum Academicorum et Peripateticorum, ut finem bonorum dicerent secundum naturam vivere, id est virtute adhibita frui primis a natura datis. De bona autem fama-quam enim appellant eÈdoj¤an, aptius est bonam famam hoc loco appellare quam gloriam-Chrysippus quidem et Diogenes detracta utilitate ne digitum quidem eius causa porrigendum esse dicebant; At vero Callipho et post eum Diodorus, cum is alter voluptatem adamavisset, alter vacuitatem doloris, neuter honestate carere potuit, quae est a nostris laudata maxime. Tuberonem de dolore patiendo scriberet, quod esse caput debebat, si probari posset, nusquam posuit, non esse malum dolorem, sed quid esset et quale, quantumque in eo inesset alieni, deinde quae ratio esset perferendi; Omnia contraria, quos etiam insanos esse vultis. Quo invento omnis ab eo quasi capite de summo bono et malo disputatio ducitur. \n",
      "\n",
      "\n"
     ]
    }
   ],
   "source": [
    "import requests\n",
    "import time\n",
    "\n",
    "options = ['short', 'medium', 'long', 'verylong']\n",
    "\n",
    "for length in options:\n",
    "    print(\"here's\", length)\n",
    "    url = \"https://loripsum.net/api/1/plaintext/\" + length\n",
    "    result = requests.get(url)\n",
    "    print(result.text)\n",
    "    time.sleep(2)"
   ]
  },
  {
   "cell_type": "markdown",
   "metadata": {},
   "source": [
    "As you can see here, the URL is a string, so we can use string methods to change it as part of an iteration.\n",
    "\n",
    "There are other times when a URL has numbers in it, such as a page number, that you need to loop through.  In these cases, you can generate the numbers that you want from a for loop, recast them to a string, and then add them to the URL string that you need.\n",
    "\n",
    "For example:"
   ]
  },
  {
   "cell_type": "code",
   "execution_count": 57,
   "metadata": {},
   "outputs": [
    {
     "name": "stdout",
     "output_type": "stream",
     "text": [
      "http://www.something.com/page=1\n",
      "http://www.something.com/page=2\n",
      "http://www.something.com/page=3\n",
      "http://www.something.com/page=4\n",
      "http://www.something.com/page=5\n"
     ]
    }
   ],
   "source": [
    "for i in range(1, 6):\n",
    "    print(\"http://www.something.com/page=\" + str(i))"
   ]
  },
  {
   "cell_type": "markdown",
   "metadata": {},
   "source": [
    "Let's change gears and take a look at the DataCite API.\n",
    "\n",
    "Here's an example search:  https://search.datacite.org/works?query=tuatara\n",
    "\n",
    "This gives you two pages of results, and when we click on the the next page, the URL reveals to us the page number structure.\n",
    "\n",
    "So here's page 2's url:  https://search.datacite.org/works?query=tuatara&page=2\n",
    "\n",
    "So we can try changing that 2 to 1: https://search.datacite.org/works?query=tuatara&page=1 and see if that indeed gives us the first page of results.\n",
    "\n",
    "So if look at a larger search:  https://search.datacite.org/works?query=snake\n",
    "\n",
    "We can look at how many pages there are, and at the bottom of the page it looks like the last one is page 40.  Let's try going there.  Indeed that looks right.\n",
    "\n",
    "So how do we generate these 40 URLs?  Well, let's think:  how can we generate the numbers 1-40?  \n",
    "\n",
    "* range(1, 41) will do that."
   ]
  },
  {
   "cell_type": "code",
   "execution_count": 59,
   "metadata": {},
   "outputs": [
    {
     "name": "stdout",
     "output_type": "stream",
     "text": [
      "https://search.datacite.org/works?query=snake&page=1\n",
      "https://search.datacite.org/works?query=snake&page=2\n",
      "https://search.datacite.org/works?query=snake&page=3\n",
      "https://search.datacite.org/works?query=snake&page=4\n",
      "https://search.datacite.org/works?query=snake&page=5\n",
      "https://search.datacite.org/works?query=snake&page=6\n",
      "https://search.datacite.org/works?query=snake&page=7\n",
      "https://search.datacite.org/works?query=snake&page=8\n",
      "https://search.datacite.org/works?query=snake&page=9\n",
      "https://search.datacite.org/works?query=snake&page=10\n",
      "https://search.datacite.org/works?query=snake&page=11\n",
      "https://search.datacite.org/works?query=snake&page=12\n",
      "https://search.datacite.org/works?query=snake&page=13\n",
      "https://search.datacite.org/works?query=snake&page=14\n",
      "https://search.datacite.org/works?query=snake&page=15\n",
      "https://search.datacite.org/works?query=snake&page=16\n",
      "https://search.datacite.org/works?query=snake&page=17\n",
      "https://search.datacite.org/works?query=snake&page=18\n",
      "https://search.datacite.org/works?query=snake&page=19\n",
      "https://search.datacite.org/works?query=snake&page=20\n",
      "https://search.datacite.org/works?query=snake&page=21\n",
      "https://search.datacite.org/works?query=snake&page=22\n",
      "https://search.datacite.org/works?query=snake&page=23\n",
      "https://search.datacite.org/works?query=snake&page=24\n",
      "https://search.datacite.org/works?query=snake&page=25\n",
      "https://search.datacite.org/works?query=snake&page=26\n",
      "https://search.datacite.org/works?query=snake&page=27\n",
      "https://search.datacite.org/works?query=snake&page=28\n",
      "https://search.datacite.org/works?query=snake&page=29\n",
      "https://search.datacite.org/works?query=snake&page=30\n",
      "https://search.datacite.org/works?query=snake&page=31\n",
      "https://search.datacite.org/works?query=snake&page=32\n",
      "https://search.datacite.org/works?query=snake&page=33\n",
      "https://search.datacite.org/works?query=snake&page=34\n",
      "https://search.datacite.org/works?query=snake&page=35\n",
      "https://search.datacite.org/works?query=snake&page=36\n",
      "https://search.datacite.org/works?query=snake&page=37\n",
      "https://search.datacite.org/works?query=snake&page=38\n",
      "https://search.datacite.org/works?query=snake&page=39\n",
      "https://search.datacite.org/works?query=snake&page=40\n"
     ]
    }
   ],
   "source": [
    "for i in range(1, 41):\n",
    "    print(\"https://search.datacite.org/works?query=snake&page=\" + str(i))"
   ]
  },
  {
   "cell_type": "markdown",
   "metadata": {},
   "source": [
    "Once you can generate these urls, you can send them through requests to get the data.\n",
    "\n",
    "The next progrgamming chunk that we will be covering will be working with JSON and getting the data out of it.  We can change part of the URL to grab the JSON output."
   ]
  },
  {
   "cell_type": "code",
   "execution_count": 63,
   "metadata": {},
   "outputs": [
    {
     "name": "stdout",
     "output_type": "stream",
     "text": [
      "https://api.datacite.org/works?query=snake&page=1\n",
      "https://api.datacite.org/works?query=snake&page=2\n",
      "https://api.datacite.org/works?query=snake&page=3\n",
      "https://api.datacite.org/works?query=snake&page=4\n",
      "https://api.datacite.org/works?query=snake&page=5\n",
      "https://api.datacite.org/works?query=snake&page=6\n",
      "https://api.datacite.org/works?query=snake&page=7\n",
      "https://api.datacite.org/works?query=snake&page=8\n",
      "https://api.datacite.org/works?query=snake&page=9\n",
      "https://api.datacite.org/works?query=snake&page=10\n",
      "https://api.datacite.org/works?query=snake&page=11\n",
      "https://api.datacite.org/works?query=snake&page=12\n",
      "https://api.datacite.org/works?query=snake&page=13\n",
      "https://api.datacite.org/works?query=snake&page=14\n",
      "https://api.datacite.org/works?query=snake&page=15\n",
      "https://api.datacite.org/works?query=snake&page=16\n",
      "https://api.datacite.org/works?query=snake&page=17\n",
      "https://api.datacite.org/works?query=snake&page=18\n",
      "https://api.datacite.org/works?query=snake&page=19\n",
      "https://api.datacite.org/works?query=snake&page=20\n",
      "https://api.datacite.org/works?query=snake&page=21\n",
      "https://api.datacite.org/works?query=snake&page=22\n",
      "https://api.datacite.org/works?query=snake&page=23\n",
      "https://api.datacite.org/works?query=snake&page=24\n",
      "https://api.datacite.org/works?query=snake&page=25\n",
      "https://api.datacite.org/works?query=snake&page=26\n",
      "https://api.datacite.org/works?query=snake&page=27\n",
      "https://api.datacite.org/works?query=snake&page=28\n",
      "https://api.datacite.org/works?query=snake&page=29\n",
      "https://api.datacite.org/works?query=snake&page=30\n",
      "https://api.datacite.org/works?query=snake&page=31\n",
      "https://api.datacite.org/works?query=snake&page=32\n",
      "https://api.datacite.org/works?query=snake&page=33\n",
      "https://api.datacite.org/works?query=snake&page=34\n",
      "https://api.datacite.org/works?query=snake&page=35\n",
      "https://api.datacite.org/works?query=snake&page=36\n",
      "https://api.datacite.org/works?query=snake&page=37\n",
      "https://api.datacite.org/works?query=snake&page=38\n",
      "https://api.datacite.org/works?query=snake&page=39\n",
      "https://api.datacite.org/works?query=snake&page=40\n"
     ]
    }
   ],
   "source": [
    "for i in range(1, 41):\n",
    "    print(\"https://api.datacite.org/works?query=snake&page=\" + str(i))"
   ]
  },
  {
   "cell_type": "markdown",
   "metadata": {},
   "source": [
    "Now we can use the i in our loop to help make file names."
   ]
  },
  {
   "cell_type": "code",
   "execution_count": 71,
   "metadata": {},
   "outputs": [
    {
     "name": "stdout",
     "output_type": "stream",
     "text": [
      "<Response [200]>\n",
      "<Response [200]>\n",
      "<Response [200]>\n",
      "<Response [200]>\n",
      "<Response [200]>\n",
      "<Response [200]>\n",
      "<Response [200]>\n",
      "<Response [200]>\n",
      "<Response [200]>\n",
      "<Response [200]>\n",
      "<Response [200]>\n",
      "<Response [200]>\n",
      "<Response [200]>\n",
      "<Response [200]>\n",
      "<Response [200]>\n",
      "<Response [200]>\n",
      "<Response [200]>\n",
      "<Response [200]>\n",
      "<Response [200]>\n",
      "<Response [200]>\n",
      "<Response [200]>\n",
      "<Response [200]>\n",
      "<Response [200]>\n",
      "<Response [200]>\n",
      "<Response [200]>\n",
      "<Response [200]>\n",
      "<Response [200]>\n",
      "<Response [200]>\n",
      "<Response [200]>\n",
      "<Response [200]>\n",
      "<Response [200]>\n",
      "<Response [200]>\n",
      "<Response [200]>\n",
      "<Response [200]>\n",
      "<Response [200]>\n",
      "<Response [200]>\n",
      "<Response [200]>\n",
      "<Response [200]>\n",
      "<Response [200]>\n",
      "<Response [200]>\n"
     ]
    }
   ],
   "source": [
    "import time\n",
    "\n",
    "folder = \"results/\"\n",
    "\n",
    "for i in range(1, 41):\n",
    "    filename = folder + \"result_page_\" + str(i) + \".json\"\n",
    "    result = requests.get(\"https://api.datacite.org/works?query=snake&page[number]=\" + str(i))\n",
    "    print(result)\n",
    "    with open(filename, 'w') as fout:\n",
    "        fout.write(result.text)\n",
    "    time.sleep(2)"
   ]
  },
  {
   "cell_type": "markdown",
   "metadata": {},
   "source": [
    "In this way we are hard coding how many pages there are, which might be completely fine for our purposes."
   ]
  },
  {
   "cell_type": "markdown",
   "metadata": {},
   "source": [
    "# Block 10: Bio/break 2:30-2:45"
   ]
  },
  {
   "cell_type": "markdown",
   "metadata": {},
   "source": [
    "# Block 11: Working with APIs\n",
    "\n",
    "* Downloading websites with a given URL\n",
    "* Using predictable patterns to construct URLs for downloading\n",
    "    * Single pages\n",
    "    * Page ranges (e.g. parsing through a list of search results)\n",
    "* Discussion:  what have you tried or wanted to try before?\n"
   ]
  },
  {
   "cell_type": "markdown",
   "metadata": {},
   "source": [
    "## this is all still just text\n",
    "\n",
    "APIs are nifty and using them is often another matter of manupilating text.\n",
    "\n",
    "Every one will work a bit differently, so you'll need to wrap your head around how that one wants you to put in text.  This is how you should be reading the documentation.\n",
    "\n",
    "Let's play with one that:\n",
    "\n",
    "* doesn't want a log in to mess with\n",
    "* isn't super restricted\n",
    "* can handle a load\n",
    "\n",
    "Once you know how to craft the queries, you can use python to make it happen.  These queries are really just URLs with other information in them.  You'll use string methods to construct those URLs and then throw them to Python for evaluation.  \n",
    "\n",
    "## before you start anything, you need to know:\n",
    "\n",
    "* are there any restrictions on how many times I can hit their servers?\n",
    "* what delay should you have between these requests\n",
    "* how should the URLs be constructed?"
   ]
  },
  {
   "cell_type": "markdown",
   "metadata": {},
   "source": [
    "## DataCite\n",
    "\n",
    "This is a service that deals with DOIs for datasets.  I don't want to get too much into the weeds about this because it isn't important. What you need to know is that they also have an API to query and serve up metadata records about those datasets.\n",
    "\n",
    "Let's write a program that takes in a search term and gets all the data records out of it.\n",
    "\n",
    "We aren't going to be focusing too much on how they work because every API works differently.  \n",
    "\n",
    "## What's the end point?\n",
    "\n",
    "Here's how this one works:\n",
    "\n",
    "* There's a base URL that you can plunk in a query text and it'll serve up results, but the pages will be numbered.\n",
    "* It'll serve it up via json, and the metadata xml payload will be there as base64. \n",
    "* It'll also state which page we're on and how many pages there are.\n",
    "* We want to hit their servers as litle as possible, so we'll need to grab the results pages and then get the metadata out from our local copies.\n",
    "\n",
    "\n",
    "We're going to use two packages that will be new to us:\n",
    "\n",
    "1. requests to download the urls\n",
    "2. json to work with the data being served to us to get a few points of information out\n",
    "\n",
    "## Getting just one page\n",
    "\n",
    "The first step here is just to get one page into memory.  Websites are usually just text, or at least what's being served to you is text.  So we have a choice:  we can keep it in memory or we can write it out to a file.\n",
    "\n",
    "We'll start with keeping it in memory as a string.  Once we have the data as a string we can pass it into something to parse it.  For example, sometimes it'll be JSON or XML data, and while that's just a plain text file (and thus can be stored as a string), the string structure doesn't know the ins and outs of that data format.  Meaning that while we can see it, write it, and manipulate it as text, we can't query it with that data format's native methods.\n",
    "\n",
    "There are special considerations for if you need to deal with a page or API that requires a key or password, which will not be covered here.  However, you'll still have to deal with all this stuff in the process.\n",
    "\n",
    "### Getting it into memory\n",
    "\n",
    "We're going to use the requests module, which is not part of the standard library, but is one of the gold standard packages for dealing with this stuff and should come with your normal anaconda installer.\n",
    "\n",
    "There are two phases here:  \n",
    "\n",
    "1. Have requests make a connection to that website.\n",
    "2. Extract what you want out of there.\n",
    "\n",
    "There are nice ways to check the status codes and other HTTPish things, but we're going to focus on grabbing the results first.\n",
    "\n",
    "We'll use a loren ipsum API to play with first to get the hang of getting stuff back from requests, and then we'll play with DataCite.\n",
    "\n",
    "We'll want to use this URL:  https://loripsum.net/api/1/plaintext/short\n",
    "\n",
    "Broken down, this URL will be giving us 1 short paragraph formatted in plain text.  You can read about the options here:  https://loripsum.net/ They have a system where you can play with all the options and see the results.\n",
    "\n",
    "This gives plain text back.  Let's first get that to print out.\n",
    "\n",
    "#### Making the request\n",
    "\n",
    "Before you do anything you must import the requests module."
   ]
  },
  {
   "cell_type": "code",
   "execution_count": 48,
   "metadata": {
    "collapsed": true
   },
   "outputs": [],
   "source": [
    "import requests"
   ]
  },
  {
   "cell_type": "markdown",
   "metadata": {},
   "source": [
    "Now we can make out first request.  We need to provide it a URL and it will give us back a requests connection object, that we can later ask for more information."
   ]
  },
  {
   "cell_type": "code",
   "execution_count": 51,
   "metadata": {},
   "outputs": [
    {
     "name": "stdout",
     "output_type": "stream",
     "text": [
      "<Response [200]>\n"
     ]
    }
   ],
   "source": [
    "import requests\n",
    "\n",
    "url = \"https://loripsum.net/api/1/plaintext/short\"\n",
    "result = requests.get(url)\n",
    "\n",
    "print(result)"
   ]
  },
  {
   "cell_type": "markdown",
   "metadata": {},
   "source": [
    "So what we're seeing here is a sucessfull connection, but not the text.  We have to ask about that explicitly from out result object.\n",
    "\n",
    "We do this with `.text` (no parens!) this will allow us to ask for a variable value within out object (versus calling a function). Some objects just work this way, and we know how to do this by looking at the documentation or a tutorial."
   ]
  },
  {
   "cell_type": "code",
   "execution_count": 52,
   "metadata": {},
   "outputs": [
    {
     "name": "stdout",
     "output_type": "stream",
     "text": [
      "Lorem ipsum dolor sit amet, consectetur adipiscing elit. Primum in nostrane potestate est, quid meminerimus? Primum in nostrane potestate est, quid meminerimus? \n",
      "\n",
      "\n"
     ]
    }
   ],
   "source": [
    "print(result.text)"
   ]
  },
  {
   "cell_type": "markdown",
   "metadata": {},
   "source": [
    "Cool! We can play with constructing URLs in a loop here.  \n",
    "\n",
    "This tool allows you to specify some parameters in the URL, separated by `/` characters.  Options include having it be short, medium, long, verylong.  Let's loop through these options and look at what's returned.  Since we'll be making multiple calls, we also need to add a time delay."
   ]
  },
  {
   "cell_type": "code",
   "execution_count": 55,
   "metadata": {},
   "outputs": [
    {
     "name": "stdout",
     "output_type": "stream",
     "text": [
      "here's short\n",
      "Lorem ipsum dolor sit amet, consectetur adipiscing elit. Summum a vobis bonum voluptas dicitur. In schola desinis. Num quid tale Democritus? Omnis enim est natura diligens sui. Stoicos roga. Cum audissem Antiochum, Brute, ut solebam, cum M. Sed ille, ut dixi, vitiose. Haec igitur Epicuri non probo, inquam. \n",
      "\n",
      "\n",
      "here's medium\n",
      "Lorem ipsum dolor sit amet, consectetur adipiscing elit. Quare obscurentur etiam haec, quae secundum naturam esse dicimus, in vita beata; Expectoque quid ad id, quod quaerebam, respondeas. Sed ad bona praeterita redeamus. Atqui reperies, inquit, in hoc quidem pertinacem; Et quidem iure fortasse, sed tamen non gravissimum est testimonium multitudinis. Duo Reges: constructio interrete. Hoc est vim afferre, Torquate, sensibus, extorquere ex animis cognitiones verborum, quibus inbuti sumus. \n",
      "\n",
      "\n",
      "here's long\n",
      "Lorem ipsum dolor sit amet, consectetur adipiscing elit. Alia quaedam dicent, credo, magna antiquorum esse peccata, quae ille veri investigandi cupidus nullo modo ferre potuerit. Isto modo ne improbos quidem, si essent boni viri. Quid enim ab antiquis ex eo genere, quod ad disserendum valet, praetermissum est? Intellegi quidem, ut propter aliam quampiam rem, verbi gratia propter voluptatem, nos amemus; Ex ea difficultate illae fallaciloquae, ut ait Accius, malitiae natae sunt. Duo Reges: constructio interrete. Omnes, qui non sint sapientes, aeque miseros esse, sapientes omnes summe beatos, recte facta omnia aequalia, omnia peccata paria; Quem Tiberina descensio festo illo die tanto gaudio affecit, quanto L. \n",
      "\n",
      "\n",
      "here's verylong\n",
      "Lorem ipsum dolor sit amet, consectetur adipiscing elit. Nec enim absolvi beata vita sapientis neque ad exitum perduci poterit, si prima quaeque bene ab eo consulta atque facta ipsius oblivione obruentur. Quare istam quoque aggredere tractatam praesertim et ab aliis et a te ipso saepe, ut tibi deesse non possit oratio. \n",
      "\n",
      "\n"
     ]
    }
   ],
   "source": [
    "import requests\n",
    "import time\n",
    "\n",
    "options = ['short', 'medium', 'long', 'verylong']\n",
    "\n",
    "for length in options:\n",
    "    print(\"here's\", length)\n",
    "    url = \"https://loripsum.net/api/1/plaintext/\" + length\n",
    "    result = requests.get(url)\n",
    "    print(result.text)\n",
    "    time.sleep(2)S"
   ]
  },
  {
   "cell_type": "markdown",
   "metadata": {},
   "source": [
    "As you can see here, the URL is a string, so we can use string methods to change it as part of an iteration.\n",
    "\n",
    "There are other times when a URL has numbers in it, such as a page number, that you need to loop through.  In these cases, you can generate the numbers that you want from a for loop, recast them to a string, and then add them to the URL string that you need.\n",
    "\n",
    "For example:"
   ]
  },
  {
   "cell_type": "code",
   "execution_count": 57,
   "metadata": {},
   "outputs": [
    {
     "name": "stdout",
     "output_type": "stream",
     "text": [
      "http://www.something.com/page=1\n",
      "http://www.something.com/page=2\n",
      "http://www.something.com/page=3\n",
      "http://www.something.com/page=4\n",
      "http://www.something.com/page=5\n"
     ]
    }
   ],
   "source": [
    "for i in range(1, 6):\n",
    "    print(\"http://www.something.com/page=\" + str(i))"
   ]
  },
  {
   "cell_type": "markdown",
   "metadata": {},
   "source": [
    "Let's change gears and take a look at the DataCite API.\n",
    "\n",
    "Here's an example search:  https://search.datacite.org/works?query=tuatara\n",
    "\n",
    "This gives you two pages of results, and when we click on the the next page, the URL reveals to us the page number structure.\n",
    "\n",
    "So here's page 2's url:  https://search.datacite.org/works?query=tuatara&page=2\n",
    "\n",
    "So we can try changing that 2 to 1: https://search.datacite.org/works?query=tuatara&page=1 and see if that indeed gives us the first page of results.\n",
    "\n",
    "So if look at a larger search:  https://search.datacite.org/works?query=snake\n",
    "\n",
    "We can look at how many pages there are, and at the bottom of the page it looks like the last one is page 40.  Let's try going there.  Indeed that looks right.\n",
    "\n",
    "So how do we generate these 40 URLs?  Well, let's think:  how can we generate the numbers 1-40?  \n",
    "\n",
    "* range(1, 41) will do that."
   ]
  },
  {
   "cell_type": "code",
   "execution_count": 59,
   "metadata": {},
   "outputs": [
    {
     "name": "stdout",
     "output_type": "stream",
     "text": [
      "https://search.datacite.org/works?query=snake&page=1\n",
      "https://search.datacite.org/works?query=snake&page=2\n",
      "https://search.datacite.org/works?query=snake&page=3\n",
      "https://search.datacite.org/works?query=snake&page=4\n",
      "https://search.datacite.org/works?query=snake&page=5\n",
      "https://search.datacite.org/works?query=snake&page=6\n",
      "https://search.datacite.org/works?query=snake&page=7\n",
      "https://search.datacite.org/works?query=snake&page=8\n",
      "https://search.datacite.org/works?query=snake&page=9\n",
      "https://search.datacite.org/works?query=snake&page=10\n",
      "https://search.datacite.org/works?query=snake&page=11\n",
      "https://search.datacite.org/works?query=snake&page=12\n",
      "https://search.datacite.org/works?query=snake&page=13\n",
      "https://search.datacite.org/works?query=snake&page=14\n",
      "https://search.datacite.org/works?query=snake&page=15\n",
      "https://search.datacite.org/works?query=snake&page=16\n",
      "https://search.datacite.org/works?query=snake&page=17\n",
      "https://search.datacite.org/works?query=snake&page=18\n",
      "https://search.datacite.org/works?query=snake&page=19\n",
      "https://search.datacite.org/works?query=snake&page=20\n",
      "https://search.datacite.org/works?query=snake&page=21\n",
      "https://search.datacite.org/works?query=snake&page=22\n",
      "https://search.datacite.org/works?query=snake&page=23\n",
      "https://search.datacite.org/works?query=snake&page=24\n",
      "https://search.datacite.org/works?query=snake&page=25\n",
      "https://search.datacite.org/works?query=snake&page=26\n",
      "https://search.datacite.org/works?query=snake&page=27\n",
      "https://search.datacite.org/works?query=snake&page=28\n",
      "https://search.datacite.org/works?query=snake&page=29\n",
      "https://search.datacite.org/works?query=snake&page=30\n",
      "https://search.datacite.org/works?query=snake&page=31\n",
      "https://search.datacite.org/works?query=snake&page=32\n",
      "https://search.datacite.org/works?query=snake&page=33\n",
      "https://search.datacite.org/works?query=snake&page=34\n",
      "https://search.datacite.org/works?query=snake&page=35\n",
      "https://search.datacite.org/works?query=snake&page=36\n",
      "https://search.datacite.org/works?query=snake&page=37\n",
      "https://search.datacite.org/works?query=snake&page=38\n",
      "https://search.datacite.org/works?query=snake&page=39\n",
      "https://search.datacite.org/works?query=snake&page=40\n"
     ]
    }
   ],
   "source": [
    "for i in range(1, 41):\n",
    "    print(\"https://search.datacite.org/works?query=snake&page=\" + str(i))"
   ]
  },
  {
   "cell_type": "markdown",
   "metadata": {},
   "source": [
    "Once you can generate these urls, you can send them through requests to get the data.\n",
    "\n",
    "The next progrgamming chunk that we will be covering will be working with JSON and getting the data out of it.  We can change part of the URL to grab the JSON output."
   ]
  },
  {
   "cell_type": "code",
   "execution_count": 63,
   "metadata": {},
   "outputs": [
    {
     "name": "stdout",
     "output_type": "stream",
     "text": [
      "https://api.datacite.org/works?query=snake&page=1\n",
      "https://api.datacite.org/works?query=snake&page=2\n",
      "https://api.datacite.org/works?query=snake&page=3\n",
      "https://api.datacite.org/works?query=snake&page=4\n",
      "https://api.datacite.org/works?query=snake&page=5\n",
      "https://api.datacite.org/works?query=snake&page=6\n",
      "https://api.datacite.org/works?query=snake&page=7\n",
      "https://api.datacite.org/works?query=snake&page=8\n",
      "https://api.datacite.org/works?query=snake&page=9\n",
      "https://api.datacite.org/works?query=snake&page=10\n",
      "https://api.datacite.org/works?query=snake&page=11\n",
      "https://api.datacite.org/works?query=snake&page=12\n",
      "https://api.datacite.org/works?query=snake&page=13\n",
      "https://api.datacite.org/works?query=snake&page=14\n",
      "https://api.datacite.org/works?query=snake&page=15\n",
      "https://api.datacite.org/works?query=snake&page=16\n",
      "https://api.datacite.org/works?query=snake&page=17\n",
      "https://api.datacite.org/works?query=snake&page=18\n",
      "https://api.datacite.org/works?query=snake&page=19\n",
      "https://api.datacite.org/works?query=snake&page=20\n",
      "https://api.datacite.org/works?query=snake&page=21\n",
      "https://api.datacite.org/works?query=snake&page=22\n",
      "https://api.datacite.org/works?query=snake&page=23\n",
      "https://api.datacite.org/works?query=snake&page=24\n",
      "https://api.datacite.org/works?query=snake&page=25\n",
      "https://api.datacite.org/works?query=snake&page=26\n",
      "https://api.datacite.org/works?query=snake&page=27\n",
      "https://api.datacite.org/works?query=snake&page=28\n",
      "https://api.datacite.org/works?query=snake&page=29\n",
      "https://api.datacite.org/works?query=snake&page=30\n",
      "https://api.datacite.org/works?query=snake&page=31\n",
      "https://api.datacite.org/works?query=snake&page=32\n",
      "https://api.datacite.org/works?query=snake&page=33\n",
      "https://api.datacite.org/works?query=snake&page=34\n",
      "https://api.datacite.org/works?query=snake&page=35\n",
      "https://api.datacite.org/works?query=snake&page=36\n",
      "https://api.datacite.org/works?query=snake&page=37\n",
      "https://api.datacite.org/works?query=snake&page=38\n",
      "https://api.datacite.org/works?query=snake&page=39\n",
      "https://api.datacite.org/works?query=snake&page=40\n"
     ]
    }
   ],
   "source": [
    "for i in range(1, 41):\n",
    "    print(\"https://api.datacite.org/works?query=snake&page=\" + str(i))"
   ]
  },
  {
   "cell_type": "markdown",
   "metadata": {},
   "source": [
    "Now we can use the i in our loop to help make file names."
   ]
  },
  {
   "cell_type": "code",
   "execution_count": 71,
   "metadata": {},
   "outputs": [
    {
     "name": "stdout",
     "output_type": "stream",
     "text": [
      "<Response [200]>\n",
      "<Response [200]>\n",
      "<Response [200]>\n",
      "<Response [200]>\n",
      "<Response [200]>\n",
      "<Response [200]>\n",
      "<Response [200]>\n",
      "<Response [200]>\n",
      "<Response [200]>\n",
      "<Response [200]>\n",
      "<Response [200]>\n",
      "<Response [200]>\n",
      "<Response [200]>\n",
      "<Response [200]>\n",
      "<Response [200]>\n",
      "<Response [200]>\n",
      "<Response [200]>\n",
      "<Response [200]>\n",
      "<Response [200]>\n",
      "<Response [200]>\n",
      "<Response [200]>\n",
      "<Response [200]>\n",
      "<Response [200]>\n",
      "<Response [200]>\n",
      "<Response [200]>\n",
      "<Response [200]>\n",
      "<Response [200]>\n",
      "<Response [200]>\n",
      "<Response [200]>\n",
      "<Response [200]>\n",
      "<Response [200]>\n",
      "<Response [200]>\n",
      "<Response [200]>\n",
      "<Response [200]>\n",
      "<Response [200]>\n",
      "<Response [200]>\n",
      "<Response [200]>\n",
      "<Response [200]>\n",
      "<Response [200]>\n",
      "<Response [200]>\n"
     ]
    }
   ],
   "source": [
    "import time\n",
    "\n",
    "folder = \"results/\"\n",
    "\n",
    "for i in range(1, 41):\n",
    "    filename = folder + \"result_page_\" + str(i) + \".json\"\n",
    "    result = requests.get(\"https://api.datacite.org/works?query=snake&page[number]=\" + str(i))\n",
    "    print(result)\n",
    "    with open(filename, 'w') as fout:\n",
    "        fout.write(result.text)\n",
    "    time.sleep(2)"
   ]
  },
  {
   "cell_type": "markdown",
   "metadata": {},
   "source": [
    "In this way we are hard coding how many pages there are, which might be completely fine for our purposes."
   ]
  },
  {
   "cell_type": "code",
   "execution_count": null,
   "metadata": {
    "collapsed": true
   },
   "outputs": [],
   "source": []
  }
 ],
 "metadata": {
  "kernelspec": {
   "display_name": "Python 3",
   "language": "python",
   "name": "python3"
  },
  "language_info": {
   "codemirror_mode": {
    "name": "ipython",
    "version": 3
   },
   "file_extension": ".py",
   "mimetype": "text/x-python",
   "name": "python",
   "nbconvert_exporter": "python",
   "pygments_lexer": "ipython3",
   "version": "3.6.1"
  }
 },
 "nbformat": 4,
 "nbformat_minor": 2
}
