{
 "cells": [
  {
   "cell_type": "markdown",
   "metadata": {},
   "source": [
    "# The hedge\n",
    "\n",
    "This demo is here to show you how to make these things work.  You will need to do your own research about how these work and appropriate usages of these techniques.\n",
    "\n",
    "# Named entity recognition \n",
    "\n",
    "This is a process that can recognized specific named entities.  This is more than just a name, although it's pretty good at that.  Many packages can detect times, objects, groups, locations, etc.  It will also give you the names and the tags of what it thinks they are.\n",
    "\n",
    "There are several packages in Python that will accomplish this, and there are other platforms around that can do this.  This uses a statistical model trained on stuff to find stuff.  There will be noise, but false and true.  But it might be sufficient to help you with a proof of concept.\n",
    "\n",
    "We're going to demo spacy here.  You'll need to install it, but they also have nice things on their website so you can test it without installing anything.\n",
    "\n",
    "https://spacy.io/"
   ]
  },
  {
   "cell_type": "code",
   "execution_count": 1,
   "metadata": {},
   "outputs": [
    {
     "name": "stderr",
     "output_type": "stream",
     "text": [
      "/Users/wickes1/anaconda/lib/python3.6/site-packages/requests/__init__.py:80: RequestsDependencyWarning: urllib3 (1.23) or chardet (3.0.3) doesn't match a supported version!\n",
      "  RequestsDependencyWarning)\n"
     ]
    }
   ],
   "source": [
    "import spacy\n",
    "\n",
    "# Load English tokenizer, tagger, parser, NER and word vectors\n",
    "nlp = spacy.load('en_core_web_sm')"
   ]
  },
  {
   "cell_type": "markdown",
   "metadata": {
    "collapsed": true
   },
   "source": [
    "Now give it text"
   ]
  },
  {
   "cell_type": "code",
   "execution_count": 5,
   "metadata": {
    "collapsed": true
   },
   "outputs": [],
   "source": [
    "with open('raven.txt', 'r') as fin:\n",
    "    text = fin.read()"
   ]
  },
  {
   "cell_type": "code",
   "execution_count": 6,
   "metadata": {},
   "outputs": [],
   "source": [
    "doc = nlp(text)"
   ]
  },
  {
   "cell_type": "code",
   "execution_count": 15,
   "metadata": {},
   "outputs": [
    {
     "name": "stdout",
     "output_type": "stream",
     "text": [
      " GPE\n",
      " GPE\n",
      " GPE\n",
      " GPE\n",
      " GPE\n",
      "December DATE\n",
      " GPE\n",
      " GPE\n",
      " GPE\n",
      "Lenore- \n",
      "                Nameless ORG\n",
      " GPE\n",
      " GPE\n",
      " GPE\n",
      " GPE\n",
      " GPE\n",
      " GPE\n",
      " GPE\n",
      " GPE\n",
      " GPE\n",
      " GPE\n",
      "Doubting ORG\n",
      " GPE\n",
      " GPE\n",
      " GPE\n",
      " GPE\n",
      " GPE\n",
      " GPE\n",
      " GPE\n",
      " GPE\n",
      " GPE\n",
      "the saintly days DATE\n",
      " GPE\n",
      "a minute TIME\n",
      " GPE\n",
      " GPE\n",
      "Pallas ORG\n",
      " GPE\n",
      " GPE\n",
      " GPE\n",
      "Raven PERSON\n",
      "the Nightly TIME\n",
      "the Night's WORK_OF_ART\n",
      "Plutonian NORP\n",
      " GPE\n",
      "Raven PERSON\n",
      "Nevermore WORK_OF_ART\n",
      " GPE\n",
      " GPE\n",
      " GPE\n",
      " GPE\n",
      "Bird PERSON\n",
      " GPE\n",
      "Nevermore FAC\n",
      "Raven ORG\n",
      " GPE\n",
      " GPE\n",
      " GPE\n",
      " GPE\n",
      "morrow DATE\n",
      " GPE\n",
      "Nevermore FAC\n",
      " GPE\n",
      "Doubtless WORK_OF_ART\n",
      "Caught ORG\n",
      "Disaster ORG\n",
      " GPE\n",
      "Of ' ORG\n",
      "Raven PERSON\n",
      " GPE\n",
      " GPE\n",
      "Fancy ORG\n",
      " GPE\n",
      "Meant ORG\n",
      "Nevermore FAC\n",
      " GPE\n",
      " GPE\n",
      " GPE\n",
      " GPE\n",
      " GPE\n",
      "Swung LOC\n",
      "Seraphim ORG\n",
      " GPE\n",
      "Wretch PERSON\n",
      " GPE\n",
      "Respite- ORG\n",
      "Lenore GPE\n",
      " GPE\n",
      "Lenore GPE\n",
      " GPE\n",
      "Raven PERSON\n",
      "Nevermore WORK_OF_ART\n",
      "Tempter PERSON\n",
      " GPE\n",
      " GPE\n",
      "Horror GPE\n",
      " GPE\n",
      "Raven PERSON\n",
      "Nevermore WORK_OF_ART\n",
      " GPE\n",
      " GPE\n",
      "Aidenn PERSON\n",
      " GPE\n",
      "Lenore- ORG\n",
      "Clasp GPE\n",
      "Lenore GPE\n",
      " GPE\n",
      "Raven PERSON\n",
      "Nevermore WORK_OF_ART\n",
      " GPE\n",
      "Night TIME\n",
      "Plutonian NORP\n",
      " GPE\n",
      " GPE\n",
      " GPE\n",
      "Raven PERSON\n",
      "Nevermore WORK_OF_ART\n",
      "Raven ORG\n",
      " GPE\n",
      "Pallas ORG\n",
      " GPE\n",
      " GPE\n",
      " GPE\n",
      " GPE\n"
     ]
    }
   ],
   "source": [
    "\n",
    "for entity in doc.ents:\n",
    "    print(entity.text.strip(), entity.label_)"
   ]
  },
  {
   "cell_type": "markdown",
   "metadata": {
    "collapsed": true
   },
   "source": [
    "So that's really hard to read, let's collect this as a dict."
   ]
  },
  {
   "cell_type": "code",
   "execution_count": 16,
   "metadata": {
    "collapsed": true
   },
   "outputs": [],
   "source": [
    "entities = {}\n",
    "\n",
    "for entity in doc.ents:\n",
    "    if  entity.label_ in entities:\n",
    "        entities[entity.label_].append(entity.text.strip())\n",
    "    else:\n",
    "        entities[entity.label_] = [entity.text.strip()]"
   ]
  },
  {
   "cell_type": "markdown",
   "metadata": {
    "collapsed": true
   },
   "source": [
    "Now we can look these up by group."
   ]
  },
  {
   "cell_type": "code",
   "execution_count": 17,
   "metadata": {},
   "outputs": [
    {
     "name": "stdout",
     "output_type": "stream",
     "text": [
      "dict_keys(['GPE', 'DATE', 'ORG', 'TIME', 'PERSON', 'WORK_OF_ART', 'NORP', 'FAC', 'LOC'])\n"
     ]
    }
   ],
   "source": [
    "print(entities.keys())"
   ]
  },
  {
   "cell_type": "code",
   "execution_count": 18,
   "metadata": {},
   "outputs": [
    {
     "name": "stdout",
     "output_type": "stream",
     "text": [
      "['Raven', 'Raven', 'Bird', 'Raven', 'Wretch', 'Raven', 'Tempter', 'Raven', 'Aidenn', 'Raven', 'Raven']\n"
     ]
    }
   ],
   "source": [
    "print(entities['PERSON'])"
   ]
  },
  {
   "cell_type": "code",
   "execution_count": 20,
   "metadata": {},
   "outputs": [
    {
     "name": "stdout",
     "output_type": "stream",
     "text": [
      "Counter({'Raven': 7, 'Bird': 1, 'Wretch': 1, 'Tempter': 1, 'Aidenn': 1})\n"
     ]
    }
   ],
   "source": [
    "from collections import Counter\n",
    "print(Counter(entities['PERSON']))"
   ]
  },
  {
   "cell_type": "markdown",
   "metadata": {},
   "source": [
    "We can also try this by stanza."
   ]
  },
  {
   "cell_type": "code",
   "execution_count": 33,
   "metadata": {},
   "outputs": [
    {
     "name": "stdout",
     "output_type": "stream",
     "text": [
      "{'CARDINAL': ['some one']}\n",
      "{'DATE': ['December'], 'ORG': ['Lenore- Nameless']}\n",
      "{}\n",
      "{}\n",
      "{'WORK_OF_ART': ['Lenore!\"- Merely this, and nothing more']}\n",
      "{}\n",
      "{'DATE': ['the saintly days'], 'ORG': ['Pallas']}\n",
      "{'PERSON': ['Raven', 'Raven'], 'TIME': ['the Nightly shore-'], 'WORK_OF_ART': [\"the Night's\", 'Nevermore'], 'NORP': ['Plutonian']}\n",
      "{'PERSON': ['Bird'], 'WORK_OF_ART': ['Nevermore']}\n",
      "{'PERSON': ['Raven'], 'DATE': ['morrow'], 'ORG': ['Nevermore']}\n",
      "{'WORK_OF_ART': ['Doubtless'], 'PERSON': ['Caught', 'Disaster Followed']}\n",
      "{'ORG': ['Raven', 'Fancy', 'Nevermore']}\n",
      "{}\n",
      "{'PERSON': ['Swung', 'Wretch', 'Raven'], 'ORG': ['Seraphim', 'Respite-'], 'GPE': ['Lenore', 'Lenore'], 'WORK_OF_ART': ['Nevermore']}\n",
      "{'PERSON': ['Tempter', 'Raven'], 'ORG': ['Horror'], 'WORK_OF_ART': ['Nevermore']}\n",
      "{'PERSON': ['Aidenn', 'Raven'], 'ORG': ['Lenore- Clasp'], 'GPE': ['Lenore'], 'WORK_OF_ART': ['Nevermore']}\n",
      "{'NORP': ['Plutonian'], 'PERSON': ['Raven'], 'WORK_OF_ART': ['Nevermore']}\n",
      "{'PERSON': ['Raven'], 'ORG': ['Pallas', 'Shall']}\n"
     ]
    }
   ],
   "source": [
    "for stanza in text.split('\\n\\n'):\n",
    "    doc = nlp(\" \".join(stanza.strip().split()))\n",
    "    entities = {}\n",
    "\n",
    "    for entity in doc.ents:\n",
    "        name = entity.text.strip()\n",
    "        if len(name) > 0:\n",
    "            if  entity.label_ in entities:\n",
    "                entities[entity.label_].append(name)\n",
    "            else:\n",
    "                entities[entity.label_] = [name]\n",
    "    print(entities)"
   ]
  },
  {
   "cell_type": "code",
   "execution_count": 26,
   "metadata": {},
   "outputs": [
    {
     "name": "stdout",
     "output_type": "stream",
     "text": [
      "No people found\n",
      "Counter({'Julie Morita': 1})\n",
      "No people found\n",
      "No people found\n",
      "No people found\n",
      "Counter({'John Tully': 1})\n",
      "No people found\n",
      "No people found\n"
     ]
    }
   ],
   "source": [
    "for paragraph in open('chicagoexample.txt', 'r').read().split('\\n\\n'):\n",
    "    doc = nlp(paragraph)\n",
    "    entities = {}\n",
    "\n",
    "    for entity in doc.ents:\n",
    "        if  entity.label_ in entities:\n",
    "            entities[entity.label_].append(entity.text.strip())\n",
    "        else:\n",
    "            entities[entity.label_] = [entity.text.strip()]\n",
    "    if 'PERSON' in entities:\n",
    "        print(Counter(entities['PERSON']))\n",
    "    else:\n",
    "        print(\"No people found\")"
   ]
  },
  {
   "cell_type": "code",
   "execution_count": 34,
   "metadata": {},
   "outputs": [
    {
     "name": "stdout",
     "output_type": "stream",
     "text": [
      "{'ORG': ['The Chicago Department of Public Health'], 'DATE': ['the week ahead'], 'CARDINAL': ['3-1-1']}\n",
      "{'DATE': ['winter'], 'PERSON': ['Julie Morita']}\n",
      "{}\n",
      "{'CARDINAL': ['at least three'], 'ORDINAL': ['first'], 'DATE': ['daily']}\n",
      "{'DATE': ['winter', 'a second consecutive day', 'Friday'], 'ORG': ['the Department of Streets and Sanitation'], 'TIME': ['afternoon', 'the evening rush hour'], 'LOC': ['City', 'Lake Shore Drive']}\n",
      "{'DATE': ['winter', 'this holiday weekend'], 'PERSON': ['John Tully']}\n",
      "{'LOC': ['City']}\n",
      "{'CARDINAL': ['311']}\n"
     ]
    }
   ],
   "source": [
    "for paragraph in open('chicagoexample.txt', 'r').read().split('\\n\\n'):\n",
    "    doc = nlp(\" \".join(paragraph.strip().split()))\n",
    "    entities = {}\n",
    "\n",
    "    for entity in doc.ents:\n",
    "        name = entity.text.strip()\n",
    "        if len(name) > 0:\n",
    "            if  entity.label_ in entities:\n",
    "                entities[entity.label_].append(name)\n",
    "            else:\n",
    "                entities[entity.label_] = [name]\n",
    "    print(entities)"
   ]
  },
  {
   "cell_type": "markdown",
   "metadata": {},
   "source": [
    "# Sentiment\n",
    "\n",
    "Similarly, we can grab sentiment analysis."
   ]
  },
  {
   "cell_type": "code",
   "execution_count": 35,
   "metadata": {
    "collapsed": true
   },
   "outputs": [],
   "source": [
    "from textblob import TextBlob"
   ]
  },
  {
   "cell_type": "code",
   "execution_count": 37,
   "metadata": {
    "collapsed": true
   },
   "outputs": [],
   "source": [
    "# we'll do the raven again\n",
    "\n",
    "tb = TextBlob(text)"
   ]
  },
  {
   "cell_type": "code",
   "execution_count": 39,
   "metadata": {},
   "outputs": [
    {
     "data": {
      "text/plain": [
       "Sentiment(polarity=0.0204623015873016, subjectivity=0.57994708994709)"
      ]
     },
     "execution_count": 39,
     "metadata": {},
     "output_type": "execute_result"
    }
   ],
   "source": [
    "tb.sentiment"
   ]
  },
  {
   "cell_type": "code",
   "execution_count": 53,
   "metadata": {},
   "outputs": [
    {
     "name": "stdout",
     "output_type": "stream",
     "text": [
      "[0.05416666666666667, 0.25, -0.35, -0.1, 0.18333333333333335, 0.09999999999999999, -0.016666666666666666, 0.0, 0.0, 0.0, 0.5416666666666666, 0.11666666666666665, -0.5, -0.25, 0.0, -0.04866071428571428, -0.13333333333333333, 0.125, 0.0, -0.04, -0.4, 0.625, 0.0, 0.0, 0.75, 0.0, 0.0, -1.0, 0.0, 0.0, 0.0, 0.0, -1.0, 0.0, 0.06666666666666667, 0.0, 0.0, 0.10416666666666666, 0.0, 0.0, 0.0, 0.0]\n",
      "[0, 0, 0, 0, 0, 0, 0, 0, 0, 0, 0, 1, 0, 2, 1, 0, 1, 0, 0, 0, 1, 0, 0, 0, 0, 1, 0, 0, 0, 0, 1, 0, 0, 0, 0, 1, 0, 0, 0, 0, 1, 1]\n"
     ]
    }
   ],
   "source": [
    "sen_polarity = [sen.sentiment.polarity for sen in tb.sentences]\n",
    "\n",
    "print(sen_polarity)\n",
    "\n",
    "ravencount = [str(sen).lower().count('raven') for sen in tb.sentences]\n",
    "\n",
    "print(ravencount)"
   ]
  },
  {
   "cell_type": "code",
   "execution_count": 57,
   "metadata": {
    "scrolled": true
   },
   "outputs": [
    {
     "data": {
      "text/plain": [
       "[<matplotlib.lines.Line2D at 0x1a33845630>]"
      ]
     },
     "execution_count": 57,
     "metadata": {},
     "output_type": "execute_result"
    },
    {
     "data": {
      "image/png": "[encoded data removed]",
      "text/plain": [
       "<matplotlib.figure.Figure at 0x1a332f37f0>"
      ]
     },
     "metadata": {},
     "output_type": "display_data"
    }
   ],
   "source": [
    "import matplotlib.pyplot as plt\n",
    "%matplotlib inline\n",
    "\n",
    "plt.plot(sen_polarity)"
   ]
  },
  {
   "cell_type": "code",
   "execution_count": 58,
   "metadata": {},
   "outputs": [
    {
     "data": {
      "text/plain": [
       "[<matplotlib.lines.Line2D at 0x1a33944f28>]"
      ]
     },
     "execution_count": 58,
     "metadata": {},
     "output_type": "execute_result"
    },
    {
     "data": {
      "image/png": "[encoded data removed]",
      "text/plain": [
       "<matplotlib.figure.Figure at 0x1a336c2400>"
      ]
     },
     "metadata": {},
     "output_type": "display_data"
    }
   ],
   "source": [
    "plt.plot(ravencount)"
   ]
  },
  {
   "cell_type": "code",
   "execution_count": 59,
   "metadata": {
    "collapsed": true
   },
   "outputs": [],
   "source": [
    "chitext = TextBlob(open('chicagoexample.txt', 'r').read())"
   ]
  },
  {
   "cell_type": "code",
   "execution_count": 60,
   "metadata": {
    "collapsed": true
   },
   "outputs": [],
   "source": [
    "sen_polarity = [sen.sentiment.polarity for sen in chitext.sentences]\n"
   ]
  },
  {
   "cell_type": "code",
   "execution_count": 61,
   "metadata": {},
   "outputs": [
    {
     "data": {
      "text/plain": [
       "[<matplotlib.lines.Line2D at 0x1a33a3e6d8>]"
      ]
     },
     "execution_count": 61,
     "metadata": {},
     "output_type": "execute_result"
    },
    {
     "data": {
      "image/png": "[encoded data removed]",
      "text/plain": [
       "<matplotlib.figure.Figure at 0x1a3396bbe0>"
      ]
     },
     "metadata": {},
     "output_type": "display_data"
    }
   ],
   "source": [
    "plt.plot(sen_polarity)"
   ]
  },
  {
   "cell_type": "code",
   "execution_count": null,
   "metadata": {
    "collapsed": true
   },
   "outputs": [],
   "source": []
  }
 ],
 "metadata": {
  "kernelspec": {
   "display_name": "Python 3",
   "language": "python",
   "name": "python3"
  },
  "language_info": {
   "codemirror_mode": {
    "name": "ipython",
    "version": 3
   },
   "file_extension": ".py",
   "mimetype": "text/x-python",
   "name": "python",
   "nbconvert_exporter": "python",
   "pygments_lexer": "ipython3",
   "version": "3.6.1"
  }
 },
 "nbformat": 4,
 "nbformat_minor": 2
}
